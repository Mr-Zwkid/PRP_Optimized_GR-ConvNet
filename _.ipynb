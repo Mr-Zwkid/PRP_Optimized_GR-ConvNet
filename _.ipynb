{
 "cells": [
  {
   "cell_type": "code",
   "execution_count": null,
   "metadata": {},
   "outputs": [],
   "source": [
    "import re\n",
    "import os\n",
    "path = 'logs'\n",
    "strn = 'iou'\n",
    "names=[]\n",
    "for dirpath, dirnames, filenames in os.walk(path):\n",
    "    # print (dirpath, '\\t', dirnames, '\\t', filenames, '\\n')\n",
    "    for filepath in filenames:\n",
    "        model_name=filepath\n",
    "        str1 = re.compile(strn+'(.*?).pt')\n",
    "        match_obj = re.findall(str1,model_name)\n",
    "        # print (match_obj)\n",
    "        if match_obj:\n",
    "            names.append(path +'\\\\'+ model_name)\n",
    "\n",
    "\n"
   ]
  },
  {
   "cell_type": "code",
   "execution_count": null,
   "metadata": {},
   "outputs": [],
   "source": [
    "import torch\n",
    "import torch.nn as nn\n",
    "import torch.nn.functional as F\n",
    "class Dense_Layer(nn.Module):\n",
    "    def __init__(self, c1, growth, e = 0.5): \n",
    "        super(Dense_Layer, self).__init__()\n",
    "        self.act = nn.ReLU(inplace=True)\n",
    "        self.bn1 = nn.BatchNorm2d(c1)\n",
    "        self.conv1 = nn.Conv2d(c1, int(growth * e), kernel_size = 1, stride= 1, bias=False)\n",
    "        self.bn2 = nn.BatchNorm2d(int(growth * e))\n",
    "        self.conv2 = nn.Conv2d(int(growth * e), growth, 3, 1, 1, bias=False)\n",
    "\n",
    "    def forward(self, x_in):\n",
    "        x = self.act(self.conv1(self.bn1(x_in)))\n",
    "        x = self.act(self.conv2(self.bn2(x)))\n",
    "        return torch.cat((x_in, x), 1)\n",
    "    \n",
    "class _Dense_Block(nn.Module):\n",
    "    def __init__(self, c1, c2, n, e = 0.5):\n",
    "        super(_Dense_Block, self).__init__()\n",
    "        self.n = n\n",
    "        self.layers = [Dense_Layer(c1 + c2 * i, c2, e) for i in range(n)]\n",
    "    def forward(self, x):\n",
    "        for i in range(self.n):\n",
    "            x = self.layers[i](x)\n",
    "        return x\n",
    "\n",
    "class Transition(nn.Module): #size -> size/2\n",
    "    def __init__(self, c1, c2, size_to_half = True):\n",
    "        super(Transition, self).__init__()\n",
    "        self.bn = nn.BatchNorm2d(c1)\n",
    "        self.conv = nn.Conv2d(c1, c2, 1, 1)\n",
    "        self.act = nn.ReLU(True)\n",
    "        self.pool = nn.AvgPool2d(2,2)\n",
    "        self.flag = size_to_half\n",
    "       \n",
    "    def forward(self, x):\n",
    "        x = self.act(self.conv(self.bn(x)))\n",
    "        return self.pool(x) if self.flag else x\n",
    "\n",
    "class Dense_Block(nn.Module): #size -> size/2\n",
    "    def __init__(self, ch_in, ch_out, n, e = 0.5, growth = 32, size_to_half = True):\n",
    "        super(Dense_Block, self).__init__()\n",
    "        self.dense = _Dense_Block(n = n, c1 = ch_in, c2 = growth)\n",
    "        self.tran = Transition(ch_in + growth * n, ch_out, size_to_half)\n",
    "        self.x = nn.ConvTranspose2d(ch_in, ch_out, kernel_size=9, stride=1, padding=4, output_padding=0\n",
    "                                      )\n",
    "        self.x1 = nn.ConvTranspose2d(ch_in, ch_out, kernel_size=4, stride=2, padding=2, output_padding=1\n",
    "                                      )\n",
    "\n",
    "    def forward(self, x):\n",
    "        # return self.x1(self.x(self.tran(self.dense(x))))\n",
    "        return self.x(self.tran(self.dense(x)))\n",
    "\n",
    "\n",
    "x = torch.rand((1, 32, 112, 112))\n",
    "net = Dense_Block(32, 32, 3)\n",
    "output = net(x)\n",
    "print(output.shape)"
   ]
  },
  {
   "cell_type": "code",
   "execution_count": null,
   "metadata": {},
   "outputs": [],
   "source": [
    "import torch\n",
    "from inference.models.grconvnet3 import GenerativeResnet\n",
    "check = torch.load('trained_models\\jacquard-rgbd-grconvnet3-drop0-ch32\\epoch_35_iou_0.92.pt')\n",
    "params = check.state_dict()\n",
    "new_model = GenerativeResnet(channel_size=32)\n",
    "new_model.load_state_dict(params,strict=False)\n",
    "for name, param in new_model.named_parameters():\n",
    "    if name.startswith('conv'):\n",
    "        param.requires_grad = False\n",
    "l = [(i, j) for i, j in new_model.named_parameters()]\n",
    "l"
   ]
  },
  {
   "cell_type": "code",
   "execution_count": null,
   "metadata": {},
   "outputs": [],
   "source": [
    "import logging\n",
    "\n",
    "file_handler = logging.FileHandler('evaluate_results.txt')\n",
    "\n",
    "logging.getLogger().addHandler(file_handler)\n",
    "\n",
    "logging.info('This message will be printed and saved in log.txt')\n"
   ]
  },
  {
   "cell_type": "code",
   "execution_count": null,
   "metadata": {},
   "outputs": [],
   "source": [
    "import os\n",
    "kn = 'logs\\\\230724_1040_oringin'\n",
    "os.path.dirname(kn)"
   ]
  },
  {
   "cell_type": "code",
   "execution_count": null,
   "metadata": {},
   "outputs": [],
   "source": [
    "import json\n",
    "vars(json)"
   ]
  },
  {
   "cell_type": "code",
   "execution_count": null,
   "metadata": {},
   "outputs": [],
   "source": [
    "import glob\n",
    "import os\n",
    "# glob.glob(r'./*.py')\n",
    "file_path = \"D:\\\\1_PRP\\Cornell\"\n",
    "grasp_files = glob.glob(os.path.join(file_path, '*', 'pcd*cpos.txt'))  # 取出点云数据和正向抓取矩形标签\n",
    "grasp_files.sort()\n",
    "ds_rotate = 0.5\n",
    "length = len(grasp_files)\n",
    "grasp_files = grasp_files[int(length * ds_rotate):] + grasp_files[:int(length * ds_rotate)]\n",
    "\n"
   ]
  },
  {
   "cell_type": "code",
   "execution_count": null,
   "metadata": {},
   "outputs": [],
   "source": [
    "def iou(self, gr, angle_threshold=np.pi / 6):\n",
    "        \"\"\"\n",
    "        Compute IoU with another grasping rectangle\n",
    "        :param gr: GraspingRectangle to compare\n",
    "        :param angle_threshold: Maximum angle difference between GraspRectangles\n",
    "        :return: IoU between Grasp Rectangles\n",
    "        \"\"\"\n",
    "        if abs((self.angle - gr.angle + np.pi / 2) % np.pi - np.pi / 2) > angle_threshold:\n",
    "            return 0\n",
    "\n",
    "        rr1, cc1 = self.polygon_coords()\n",
    "        rr2, cc2 = polygon(gr.points[:, 0], gr.points[:, 1])\n",
    "\n",
    "        try:\n",
    "            r_max = max(rr1.max(), rr2.max()) + 1\n",
    "            c_max = max(cc1.max(), cc2.max()) + 1\n",
    "        except:\n",
    "            return 0\n",
    "\n",
    "        canvas = np.zeros((r_max, c_max))\n",
    "        canvas[rr1, cc1] += 1\n",
    "        canvas[rr2, cc2] += 1\n",
    "        union = np.sum(canvas > 0)\n",
    "        if union == 0:\n",
    "            return 0\n",
    "        intersection = np.sum(canvas == 2)\n",
    "        return intersection / union\n"
   ]
  },
  {
   "cell_type": "code",
   "execution_count": null,
   "metadata": {},
   "outputs": [],
   "source": [
    "#  此函数将网络输出的三幅图转换成五维抓取表示\n",
    "def detect_grasps(q_img, ang_img, width_img=None, no_grasps=1):  # no_grasp: 返回的最大抓取数量\n",
    "    \"\"\"\n",
    "    Detect grasps in a network output.                                此函数将网络输出的三幅图转换成抓取矩形\n",
    "    :param q_img: Q image network output\n",
    "    :param ang_img: Angle image network output\n",
    "    :param width_img: (optional) Width image network output\n",
    "    :param no_grasps: Max number of grasps to return\n",
    "    :return: list of Grasps\n",
    "    \"\"\"\n",
    "    # 获得质量图中的局部最大值， 每个极大值对应一个抓取点，两个极大值点之间距离必须大于20.\n",
    "    local_max = peak_local_max(q_img, min_distance=20, threshold_abs=0.2, num_peaks=no_grasps)\n",
    "\n",
    "    grasps = []\n",
    "    for grasp_point_array in local_max:\n",
    "        grasp_point = tuple(grasp_point_array)\n",
    "\n",
    "        grasp_angle = ang_img[grasp_point]  # 通过抓取点坐标在角度图上获取抓取角度\n",
    "\n",
    "        g = Grasp(grasp_point, grasp_angle)\n",
    "        if width_img is not None:\n",
    "            g.length = width_img[grasp_point]\n",
    "            g.width = g.length / 2\n",
    "\n",
    "        grasps.append(g)\n",
    "\n",
    "    return grasps"
   ]
  },
  {
   "cell_type": "code",
   "execution_count": 3,
   "metadata": {},
   "outputs": [
    {
     "name": "stdout",
     "output_type": "stream",
     "text": [
      "torch.Size([1, 4, 94, 94])\n",
      "torch.Size([1, 4, 112, 112])\n"
     ]
    },
    {
     "ename": "",
     "evalue": "",
     "output_type": "error",
     "traceback": [
      "\u001b[1;31m在当前单元格或上一个单元格中执行代码时 Kernel 崩溃。请查看单元格中的代码，以确定故障的可能原因。有关详细信息，请单击 <a href='https://aka.ms/vscodeJupyterKernelCrash'>此处</a>。有关更多详细信息，请查看 Jupyter <a href='command:jupyter.viewOutput'>log</a>。"
     ]
    }
   ],
   "source": [
    "import torch\n",
    "import torch.nn as nn\n",
    "from inference.models.grasp_model import GraspModel, ResidualBlock, CoordAtt, CARes, C3, C3_CA, Dense_Block, GSConv, GSBottleneck, VoVGSCSP,\\\n",
    "    Trans,CA_GS_IRes,GS_IRes,MultiModal\n",
    "\n",
    "class Conv(nn.Module):\n",
    "    # ConvBNSiLU Module\n",
    "    def __init__(self, c1, c2, k=1, s=1, p=0, g=1):\n",
    "        super(Conv, self).__init__()\n",
    "        self.conv = nn.Conv2d(c1, c2, k, s, p, g)\n",
    "        self.bn = nn.BatchNorm2d(c2)\n",
    "        self.act = nn.ReLU()\n",
    "\n",
    "    def forward(self, x):\n",
    "        return self.act(self.bn(self.conv(x)))\n",
    "    \n",
    "class Conv_Mish(nn.Module):\n",
    "    # Standard convolution\n",
    "    def __init__(self, c1, c2, k=1, s=1, p=0, g=1, act=True): \n",
    "        super().__init__()\n",
    "        self.conv = nn.Conv2d(c1, c2, k, s, p, groups=g, bias=False)\n",
    "        self.bn = nn.BatchNorm2d(c2)\n",
    "        self.act = nn.Mish()\n",
    "\n",
    "    def forward(self, x):\n",
    "        return self.act(self.bn(self.conv(x)))\n",
    "    \n",
    "x = torch.rand((1,4,112,112))\n",
    "net1 = Conv(4, 4, 7, 1, 3, 4)\n",
    "net2 = Conv_Mish(4, 4, 7, 1, 3, 4)\n",
    "output1 = net1(x)\n",
    "output2 = net2(x)\n",
    "print(output1.shape)\n",
    "print(output2.shape)"
   ]
  }
 ],
 "metadata": {
  "kernelspec": {
   "display_name": "Testrobot",
   "language": "python",
   "name": "python3"
  },
  "language_info": {
   "codemirror_mode": {
    "name": "ipython",
    "version": 3
   },
   "file_extension": ".py",
   "mimetype": "text/x-python",
   "name": "python",
   "nbconvert_exporter": "python",
   "pygments_lexer": "ipython3",
   "version": "3.9.13"
  },
  "orig_nbformat": 4
 },
 "nbformat": 4,
 "nbformat_minor": 2
}
